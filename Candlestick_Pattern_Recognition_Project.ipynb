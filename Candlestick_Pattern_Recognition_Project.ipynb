{
 "cells": [
  {
   "cell_type": "markdown",
   "id": "e134e003",
   "metadata": {},
   "source": [
    "# 📈 Candlestick Pattern Recognition in Stock Market Data\n",
    "**Author:** [Priyansh Gupta]  \n",
    "**Date:** [15/07/2025]  \n",
    "**Description:** Detecting and analyzing candlestick patterns from OHLCV stock data using TA-Lib and pandas-ta.\n"
   ]
  },
  {
   "cell_type": "markdown",
   "id": "adeda3f9",
   "metadata": {},
   "source": [
    "## 📦 Import Libraries"
   ]
  },
  {
   "cell_type": "code",
   "execution_count": null,
   "id": "1df5de07",
   "metadata": {},
   "outputs": [],
   "source": [
    "import pandas as pd\n",
    "import matplotlib.pyplot as plt\n",
    "import pandas_ta as ta\n",
    "import yfinance as yf\n",
    "from candlestick import candlestick"
   ]
  },
  {
   "cell_type": "markdown",
   "id": "bbf057ac",
   "metadata": {},
   "source": [
    "## 🔄 Load Stock Data"
   ]
  },
  {
   "cell_type": "code",
   "execution_count": null,
   "id": "4106e4e5",
   "metadata": {},
   "outputs": [],
   "source": [
    "ticker = \"RELIANCE.NS\"\n",
    "df = yf.download(ticker, start=\"2022-01-01\", end=\"2024-12-31\")\n",
    "df.dropna(inplace=True)\n",
    "df.tail()"
   ]
  },
  {
   "cell_type": "markdown",
   "id": "aee16323",
   "metadata": {},
   "source": [
    "## 🔍 Apply Candlestick Pattern Recognition"
   ]
  },
  {
   "cell_type": "code",
   "execution_count": null,
   "id": "2f070b1a",
   "metadata": {},
   "outputs": [],
   "source": [
    "candlestick.engulfing(df)\n",
    "candlestick.hammer(df)\n",
    "candlestick.shooting_star(df)\n",
    "candlestick.hanging_man(df)\n",
    "\n",
    "df_patterns = df[(df['engulfing'] != 0) | (df['hammer'] != 0) | \n",
    "                 (df['shooting_star'] != 0) | (df['hanging_man'] != 0)]\n",
    "df_patterns.tail()"
   ]
  },
  {
   "cell_type": "markdown",
   "id": "fffd3048",
   "metadata": {},
   "source": [
    "## 📊 Visualize Detected Patterns"
   ]
  },
  {
   "cell_type": "code",
   "execution_count": null,
   "id": "7eac1252",
   "metadata": {},
   "outputs": [],
   "source": [
    "plt.figure(figsize=(14,6))\n",
    "plt.plot(df['Close'], label='Close Price')\n",
    "plt.scatter(df_patterns.index, df_patterns['Close'], color='red', label='Detected Pattern', marker='^')\n",
    "plt.title(f\"{ticker} - Detected Candlestick Patterns\")\n",
    "plt.xlabel('Date')\n",
    "plt.ylabel('Price')\n",
    "plt.legend()\n",
    "plt.grid(True)\n",
    "plt.show()"
   ]
  },
  {
   "cell_type": "markdown",
   "id": "72a34d0f",
   "metadata": {},
   "source": [
    "## 🧪 Simple Strategy Backtest: Buy on Bullish Engulfing and Hold for 5 Days"
   ]
  },
  {
   "cell_type": "code",
   "execution_count": null,
   "id": "ba3ef9ef",
   "metadata": {},
   "outputs": [],
   "source": [
    "returns = []\n",
    "holding_period = 5\n",
    "\n",
    "for idx in df.index:\n",
    "    if df.loc[idx, 'engulfing'] == 1:\n",
    "        entry_price = df.loc[idx, 'Close']\n",
    "        exit_idx = df.index.get_loc(idx) + holding_period\n",
    "        if exit_idx < len(df):\n",
    "            exit_price = df.iloc[exit_idx]['Close']\n",
    "            returns.append((exit_price - entry_price) / entry_price)\n",
    "\n",
    "print(\"Simulated Strategy Return Stats:\")\n",
    "print(f\"Total Signals: {len(returns)}\")\n",
    "print(f\"Average Return (5-day hold): {round(pd.Series(returns).mean() * 100, 2)}%\")"
   ]
  },
  {
   "cell_type": "markdown",
   "id": "263783e5",
   "metadata": {},
   "source": [
    "## 📝 Learnings & Takeaways\n",
    "- Pattern-based signals often require confirmation from volume or trend.\n",
    "- Not all detected signals led to profitable outcomes — market context matters.\n",
    "- Automation of pattern recognition is scalable and insightful for short-term trading.\n",
    "\n",
    "## 🔮 Future Improvements\n",
    "- Add more patterns (e.g., Doji, Morning/Evening Star)\n",
    "- Combine patterns with RSI/MACD filters\n",
    "- Backtest with `backtesting.py` for strategy performance\n"
   ]
  }
 ],
 "metadata": {
  "language_info": {
   "name": "python"
  }
 },
 "nbformat": 4,
 "nbformat_minor": 5
}
